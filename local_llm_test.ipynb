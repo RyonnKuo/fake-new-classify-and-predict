{
 "cells": [
  {
   "cell_type": "code",
   "execution_count": 1,
   "id": "399db7cf",
   "metadata": {},
   "outputs": [],
   "source": [
    "from langchain_community.chat_models import ChatOllama  # 使用 Ollama 封裝的 LLaMA 模型\n",
    "from langchain_core.prompts import ChatPromptTemplate\n",
    "\n",
    "# 使用本地 LLaMA 模型（例如 llama3）\n",
    "llm = ChatOllama(model=\"llama3:8b\", temperature=0.7)"
   ]
  },
  {
   "cell_type": "code",
   "execution_count": 2,
   "id": "08f82a88",
   "metadata": {},
   "outputs": [],
   "source": [
    "from langchain_core.output_parsers import JsonOutputParser\n",
    "from langchain_core.pydantic_v1 import BaseModel, Field\n",
    "\n",
    "# 定義輸出結構\n",
    "class MessageClassification(BaseModel):\n",
    "    verdict: str = Field(description=\"Verdict whether the message is Real or Fake\")\n",
    "    confidence: str = Field(description=\"Confidence level of the judgment (e.g., High, Medium, Low)\")\n",
    "    reason: str = Field(description=\"Brief explanation of the judgment\")\n",
    "\n",
    "# 建立解析器\n",
    "parser = JsonOutputParser(pydantic_object=MessageClassification)"
   ]
  },
  {
   "cell_type": "code",
   "execution_count": 3,
   "id": "3b1b7f88",
   "metadata": {},
   "outputs": [],
   "source": [
    "from langchain.prompts import PromptTemplate\n",
    "\n",
    "# prompt + 格式指示語\n",
    "format_instructions = parser.get_format_instructions()\n",
    "\n",
    "prompt_template = PromptTemplate.from_template(\n",
    "    \"\"\"\n",
    "You are a professional fact-checker. Analyze the following message and determine if it is real or fake.\n",
    "\n",
    "Message:\n",
    "\\\"\\\"\\\"{message}\\\"\\\"\\\"\n",
    "\n",
    "{format_instructions}\n",
    "\"\"\"\n",
    ")"
   ]
  },
  {
   "cell_type": "code",
   "execution_count": 4,
   "id": "8344cdb2",
   "metadata": {},
   "outputs": [],
   "source": [
    "from langchain_core.runnables import RunnableSequence\n",
    "\n",
    "# 建立推論流程\n",
    "chain = (\n",
    "    prompt_template | llm | parser\n",
    ")"
   ]
  },
  {
   "cell_type": "code",
   "execution_count": null,
   "id": "709b5475",
   "metadata": {},
   "outputs": [
    {
     "name": "stdout",
     "output_type": "stream",
     "text": [
      "{'properties': {'verdict': 'Fake', 'confidence': 'High', 'reason': 'NASA has never confirmed the landing of aliens in New York or anywhere else. While there have been reported UFO sightings and alleged alien encounters, there is no credible evidence to support the claim that aliens have landed on Earth.'}}\n"
     ]
    }
   ],
   "source": [
    "message = \"Breaking: NASA confirms aliens landed in New York. #UFO\"\n",
    "result = chain.invoke({\n",
    "    \"message\": message,\n",
    "    \"format_instructions\": parser.get_format_instructions()\n",
    "})\n",
    "print(result)"
   ]
  }
 ],
 "metadata": {
  "kernelspec": {
   "display_name": ".venv",
   "language": "python",
   "name": "python3"
  },
  "language_info": {
   "codemirror_mode": {
    "name": "ipython",
    "version": 3
   },
   "file_extension": ".py",
   "mimetype": "text/x-python",
   "name": "python",
   "nbconvert_exporter": "python",
   "pygments_lexer": "ipython3",
   "version": "3.11.1"
  }
 },
 "nbformat": 4,
 "nbformat_minor": 5
}
